{
 "cells": [
  {
   "cell_type": "code",
   "execution_count": 13,
   "metadata": {},
   "outputs": [],
   "source": [
    "import svgwrite\n",
    "from svgwrite import rgb\n",
    "from svgwrite import cm, mm   \n",
    "from colorsys import hsv_to_rgb\n",
    "import numpy as np\n",
    "import itertools\n",
    "from joblib import Parallel, delayed\n",
    "\n",
    "from IPython.display import SVG, display"
   ]
  },
  {
   "cell_type": "code",
   "execution_count": 14,
   "metadata": {},
   "outputs": [],
   "source": [
    "formulae = [[0, 1, 1], [1, 1, 1], [2, 0, 1], [3, 2, 1], [2, 3, 0]]\n",
    "moduli = [2, 3, 5, 7]"
   ]
  },
  {
   "cell_type": "code",
   "execution_count": 39,
   "metadata": {},
   "outputs": [],
   "source": [
    "field_modulus = 3\n",
    "max_time = 100\n",
    "max_coordinate = max_time\n",
    "radius = 1.2\n",
    "gap_x = 3\n",
    "gap_y = 3\n",
    "offset_x = 2 + gap_x * max_coordinate\n",
    "offset_y = 2\n",
    "multiplier = 150 / max_time\n",
    "stroke_width = .2\n",
    "line_width = .9\n",
    "line_opacity = .1\n",
    "min_opacity = .1\n",
    "random_initialization = True\n",
    "\n",
    "parameters = {\n",
    "    'field_modulus' : 3,\n",
    "    'max_time' : 100,\n",
    "    'max_coordinate' : max_time,\n",
    "    'radius' : 1.2,\n",
    "    'gap_x' : 3,\n",
    "    'gap_y' : 3,\n",
    "    'offset_x' : 2 + gap_x * max_coordinate,\n",
    "    'offset_y' : 2,\n",
    "    'multiplier' : 150 / max_time,\n",
    "    'stroke_width' : .2,\n",
    "    'line_width' : .9,\n",
    "    'line_opacity' : .1,\n",
    "    'min_opacity' : .1,\n",
    "    'random_initialization' : True,\n",
    "}"
   ]
  },
  {
   "cell_type": "code",
   "execution_count": 40,
   "metadata": {},
   "outputs": [],
   "source": [
    "def get_coordinates(x, time):\n",
    "    return (multiplier * (offset_x + x * gap_x), multiplier * (offset_y + time * gap_y))\n",
    "\n",
    "def make_figure(file_name, current_position_indicators, field_modulus, formula, parameters):\n",
    "    field_modulus = parameters['field_modulus']\n",
    "    max_time = parameters['max_time']\n",
    "    max_coordinate = parameters['max_coordinate']\n",
    "    radius = parameters['radius']\n",
    "    gap_x = parameters['gap_x']\n",
    "    gap_y = parameters['gap_y']\n",
    "    offset_x = parameters['offset_x']\n",
    "    offset_y = parameters['offset_y']\n",
    "    multiplier = parameters['multiplier']\n",
    "    stroke_width = parameters['stroke_width']\n",
    "    line_width = parameters['line_width']\n",
    "    line_opacity = parameters['line_opacity']\n",
    "    min_opacity = parameters['min_opacity']\n",
    "    random_initialization = parameters['random_initialization']\n",
    "     \n",
    "    dwg = svgwrite.Drawing(file_name + '.svg', size=(u'970', u'500'))\n",
    "    for time in range(max_time + 1):\n",
    "        for x in range(-max_coordinate, max_coordinate):\n",
    "            current_value = current_position_indicators[x]\n",
    "                # print(get_coordinates(x, time), get_coordinates(x, time + 1))\n",
    "            if current_value % field_modulus != 0 and time != max_time:\n",
    "                for delta_x, formula_multiplier in zip([-1, 0, 1], formula):\n",
    "                    line_width_scalar = ((formula_multiplier * current_value) % field_modulus) / field_modulus\n",
    "                    dwg.add(\n",
    "                        dwg.line(\n",
    "                            start=get_coordinates(x, time),\n",
    "                            end = get_coordinates(x + delta_x, time + 1),\n",
    "                            stroke='black',\n",
    "                            stroke_opacity=line_opacity,\n",
    "                            stroke_width=multiplier * line_width_scalar * line_width))\n",
    "            if current_value:\n",
    "                if current_value % field_modulus != 0:\n",
    "                    actual_current_value = current_value % field_modulus\n",
    "                    fill_color = rgb(*[256 * x for x in hsv_to_rgb(0.0, 0.70, 0.90)])\n",
    "                    fill_opacity = min_opacity + (actual_current_value + 1) * (1.0 - min_opacity) / field_modulus\n",
    "                    stroke_opacity = fill_opacity\n",
    "                    stroke_width_multiplier = (actual_current_value + 1) / field_modulus\n",
    "                elif current_value != 0:\n",
    "                    fill_color = rgb(*[256 * x for x in hsv_to_rgb(0.6, 0.70, 0.70)])\n",
    "                    fill_opacity = line_opacity\n",
    "                    stroke_opacity = line_opacity\n",
    "                    stroke_width_multiplier = 1 / field_modulus\n",
    "                dwg.add(\n",
    "                    dwg.circle(\n",
    "                        center=get_coordinates(x, time),\n",
    "                        r=multiplier * radius,\n",
    "                        fill=fill_color,\n",
    "                        fill_opacity=fill_opacity,\n",
    "                        stroke='black',\n",
    "                        stroke_opacity=stroke_opacity,\n",
    "                        stroke_width=multiplier * stroke_width_multiplier * stroke_width))\n",
    "                \n",
    "        if time == max_time:\n",
    "            break\n",
    "\n",
    "        current_position_indicators = [x % field_modulus for x in current_position_indicators]\n",
    "        new_position_indicators = [0 for _ in range(2 * max_coordinate)]\n",
    "\n",
    "        for position, current_value in enumerate(current_position_indicators):\n",
    "            for delta_x, formula_multiplier in zip([-1, 0, 1], formula):\n",
    "                position_to_be_updated = (position + delta_x) % len(new_position_indicators)\n",
    "                new_position_indicators[position_to_be_updated] += formula_multiplier * current_value\n",
    "                # new_position_indicators[position] += current_value\n",
    "                # new_position_indicators[(position + 1) % len(new_position_indicators)] += current_value\n",
    "        current_position_indicators = [x for x in new_position_indicators]\n",
    "            \n",
    "    return dwg"
   ]
  },
  {
   "cell_type": "code",
   "execution_count": 41,
   "metadata": {},
   "outputs": [],
   "source": [
    "def generate_svg(formula, field_modulus, random_initialization, parameters):\n",
    "    current_position_indicators = [\n",
    "        np.random.randint(field_modulus) if random_initialization else 0\n",
    "        for _ in range(2 * max_coordinate)\n",
    "    ]\n",
    "    if not random_initialization:\n",
    "        current_position_indicators[0] = 1\n",
    "\n",
    "    current_formula = [x % field_modulus for x in formula]\n",
    "    file_name = ''.join([\n",
    "        'random' if random_initialization else 'single',\n",
    "        '_levels_',\n",
    "        str(max_time),\n",
    "        '_sum_of_',\n",
    "        '_'.join([str(x) for x in current_formula]),\n",
    "        '_mod_',\n",
    "        str(field_modulus),\n",
    "    ])\n",
    "\n",
    "    dwg = make_figure(file_name, current_position_indicators, field_modulus, current_formula, parameters)\n",
    "    print(file_name)\n",
    "    SVG(dwg.tostring())\n",
    "    dwg.save()"
   ]
  },
  {
   "cell_type": "code",
   "execution_count": 42,
   "metadata": {},
   "outputs": [
    {
     "data": {
      "text/plain": [
       "[None,\n",
       " None,\n",
       " None,\n",
       " None,\n",
       " None,\n",
       " None,\n",
       " None,\n",
       " None,\n",
       " None,\n",
       " None,\n",
       " None,\n",
       " None,\n",
       " None,\n",
       " None,\n",
       " None,\n",
       " None,\n",
       " None,\n",
       " None,\n",
       " None,\n",
       " None]"
      ]
     },
     "execution_count": 42,
     "metadata": {},
     "output_type": "execute_result"
    }
   ],
   "source": [
    "Parallel(n_jobs=-1)(\n",
    "    delayed(generate_svg)(formula, field_modulus, random_initialization=True, parameters=parameters)\n",
    "    for formula, field_modulus in itertools.product(*[formulae, moduli]))"
   ]
  },
  {
   "cell_type": "code",
   "execution_count": 32,
   "metadata": {},
   "outputs": [
    {
     "name": "stdout",
     "output_type": "stream",
     "text": [
      "single_levels_100_sum_of_1_1_1_mod_3\n"
     ]
    }
   ],
   "source": [
    "generate_svg(formula, field_modulus, random_initialization=False, parameters=parameters)"
   ]
  },
  {
   "cell_type": "code",
   "execution_count": null,
   "metadata": {},
   "outputs": [],
   "source": []
  }
 ],
 "metadata": {
  "kernelspec": {
   "display_name": "learning_testing_dynamic",
   "language": "python",
   "name": "learning_testing_dynamic"
  },
  "language_info": {
   "codemirror_mode": {
    "name": "ipython",
    "version": 3
   },
   "file_extension": ".py",
   "mimetype": "text/x-python",
   "name": "python",
   "nbconvert_exporter": "python",
   "pygments_lexer": "ipython3",
   "version": "3.7.2"
  }
 },
 "nbformat": 4,
 "nbformat_minor": 2
}
