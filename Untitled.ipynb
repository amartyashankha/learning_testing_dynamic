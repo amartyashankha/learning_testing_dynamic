{
 "cells": [
  {
   "cell_type": "code",
   "execution_count": 30,
   "metadata": {},
   "outputs": [],
   "source": [
    "import numpy as np\n",
    "import matplotlib.pyplot as plt\n",
    "from multiprocessing import Process, Value, Array\n",
    "\n",
    "%matplotlib inline"
   ]
  },
  {
   "cell_type": "code",
   "execution_count": 23,
   "metadata": {},
   "outputs": [],
   "source": [
    "N = 2**20"
   ]
  },
  {
   "cell_type": "code",
   "execution_count": 39,
   "metadata": {},
   "outputs": [],
   "source": [
    "def two_choice_helper(bins):\n",
    "    first_choice = np.random.randint(N)\n",
    "    second_choice = np.random.randint(N)\n",
    "    choice = first_choice if bins[first_choice] < bins[second_choice] else second_choice\n",
    "    bins[choice] += 1\n",
    "\n",
    "def two_choice(N):\n",
    "    bins = Array('i', range(N))\n",
    "    for i in range(N):\n",
    "        bins[i] = 0\n",
    "    for _ in range(N):\n",
    "        p = Process(target=two_choice_helper, args=(bins,))\n",
    "        p.start()\n",
    "        p.join()\n",
    "    return bins\n",
    "\n",
    "def single_choice(N):\n",
    "    bins = [0 for _ in range(N)]\n",
    "    for _ in range(N):\n",
    "        choice = np.random.randint(N)\n",
    "        bins[choice] += 1\n",
    "    return bins"
   ]
  },
  {
   "cell_type": "code",
   "execution_count": 40,
   "metadata": {},
   "outputs": [
    {
     "name": "stderr",
     "output_type": "stream",
     "text": [
      "Exception ignored in: <function _releaseLock at 0x7fe777d07a60>\n",
      "Traceback (most recent call last):\n",
      "  File \"/usr/lib64/python3.7/logging/__init__.py\", line 221, in _releaseLock\n",
      "    def _releaseLock():\n",
      "KeyboardInterrupt\n"
     ]
    },
    {
     "name": "stdout",
     "output_type": "stream",
     "text": [
      "524288\n"
     ]
    }
   ],
   "source": [
    "# print(max(single_choice(N)))\n",
    "print(max(two_choice(N)))"
   ]
  },
  {
   "cell_type": "code",
   "execution_count": null,
   "metadata": {},
   "outputs": [],
   "source": []
  }
 ],
 "metadata": {
  "kernelspec": {
   "display_name": "learning_testing_dynamic",
   "language": "python",
   "name": "learning_testing_dynamic"
  },
  "language_info": {
   "codemirror_mode": {
    "name": "ipython",
    "version": 3
   },
   "file_extension": ".py",
   "mimetype": "text/x-python",
   "name": "python",
   "nbconvert_exporter": "python",
   "pygments_lexer": "ipython3",
   "version": "3.7.2"
  }
 },
 "nbformat": 4,
 "nbformat_minor": 2
}
